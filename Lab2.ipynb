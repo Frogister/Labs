{
 "cells": [
  {
   "metadata": {},
   "cell_type": "markdown",
   "source": "# Задание 1",
   "id": "443c4f5446f0571e"
  },
  {
   "metadata": {},
   "cell_type": "markdown",
   "source": "### Пункт 1",
   "id": "13b384805c639957"
  },
  {
   "metadata": {},
   "cell_type": "code",
   "source": [
    "import pandas as pd\n",
    "import matplotlib.pyplot as plt\n",
    "import seaborn as sb"
   ],
   "id": "9e515b61-3086-4271-8ff0-8d314e4581a7",
   "outputs": [],
   "execution_count": null
  },
  {
   "metadata": {},
   "cell_type": "code",
   "source": [
    "file_ships = pd.read_csv(\"CSV Tables/Cleaned_ships_data.csv\")\n",
    "data = file_ships.groupby(by = \"dwt\") [\"length\"].mean().reset_index()\n",
    "plt.figure(figsize=(10,6))\n",
    "sb.lineplot(x=\"length\", y =\"dwt\", data = data)"
   ],
   "id": "73f886a9-ad04-4ebe-bd4e-5bb2ab6c4c22",
   "outputs": [],
   "execution_count": null
  },
  {
   "metadata": {},
   "cell_type": "markdown",
   "source": "### Пункт 2",
   "id": "585582a2c66f6867"
  },
  {
   "metadata": {},
   "cell_type": "code",
   "source": [
    "ship_counts = file_ships['ship_name'].value_counts()\n",
    "other_counts = ship_counts[ship_counts < 10].sum()\n",
    "ship_counts = ship_counts[ship_counts >= 10]\n",
    "ship_counts['Другие'] = other_counts\n",
    "\n",
    "plt.figure(figsize=(10,6))\n",
    "ship_counts.plot(kind='bar')\n",
    "plt.show()"
   ],
   "id": "3a667327b4f59c54",
   "outputs": [],
   "execution_count": null
  },
  {
   "metadata": {},
   "cell_type": "markdown",
   "source": "### Пункт 3",
   "id": "76cbd0920d1af940"
  },
  {
   "metadata": {},
   "cell_type": "code",
   "source": [
    "plt.figure(figsize=(10,6))\n",
    "sb.histplot(file_ships['built_year'].dropna(), bins=30, kde=False)\n",
    "plt.show()"
   ],
   "id": "a12bd913d959f65e",
   "outputs": [],
   "execution_count": null
  },
  {
   "metadata": {},
   "cell_type": "markdown",
   "source": "### Пункт 4",
   "id": "19a3b2aae4fb9316"
  },
  {
   "metadata": {},
   "cell_type": "code",
   "source": [
    "plt.figure(figsize=(10,6))\n",
    "sb.histplot(data=file_ships, x='built_year', y='dwt', bins=20, cbar=True, cmap='viridis')\n",
    "plt.show()"
   ],
   "id": "1af4a700c30d4620",
   "outputs": [],
   "execution_count": null
  },
  {
   "metadata": {},
   "cell_type": "markdown",
   "source": "## Задание 1.2",
   "id": "5570327ef6aeaedc"
  },
  {
   "metadata": {},
   "cell_type": "markdown",
   "source": "### Пункт 1",
   "id": "448a98b46b0124f7"
  },
  {
   "metadata": {},
   "cell_type": "code",
   "source": [
    "file_iris = pd.read_csv(\"CSV Tables/IRIS.csv\")\n",
    "sb.pairplot(file_iris)"
   ],
   "id": "175920e709928fb5",
   "outputs": [],
   "execution_count": null
  },
  {
   "metadata": {},
   "cell_type": "markdown",
   "source": "### Пункт 2.1",
   "id": "401db437e01261f8"
  },
  {
   "metadata": {},
   "cell_type": "code",
   "source": [
    "plt.figure(figsize=(10,6))\n",
    "sb.violinplot(data=file_iris, x='species', y='sepal_length')\n",
    "plt.show()"
   ],
   "id": "bed06c8f930786ab",
   "outputs": [],
   "execution_count": null
  },
  {
   "metadata": {},
   "cell_type": "markdown",
   "source": "### Пункт 2.2",
   "id": "87bc3d8a263e1181"
  },
  {
   "metadata": {},
   "cell_type": "code",
   "source": [
    "plt.figure(figsize=(10,6))\n",
    "sb.violinplot(data=file_iris, x='species', y='sepal_width')\n",
    "plt.show()"
   ],
   "id": "ad4ef3a632dcff32",
   "outputs": [],
   "execution_count": null
  },
  {
   "metadata": {},
   "cell_type": "markdown",
   "source": "### Пункт 2.3",
   "id": "2d6126927ce79732"
  },
  {
   "metadata": {},
   "cell_type": "code",
   "source": [
    "plt.figure(figsize=(10,6))\n",
    "sb.violinplot(data=file_iris, x='species', y='petal_length')\n",
    "plt.show()"
   ],
   "id": "14ae66d52100321b",
   "outputs": [],
   "execution_count": null
  },
  {
   "metadata": {},
   "cell_type": "markdown",
   "source": "### Пункт 2.4",
   "id": "414e09165d2306a6"
  },
  {
   "metadata": {},
   "cell_type": "code",
   "source": [
    "plt.figure(figsize=(10,6))\n",
    "sb.violinplot(data=file_iris, x='species', y='petal_width')\n",
    "plt.show()"
   ],
   "id": "d34b0a7ac9463b74",
   "outputs": [],
   "execution_count": null
  },
  {
   "metadata": {},
   "cell_type": "markdown",
   "source": "# Задание 2",
   "id": "8c22c54c88fbdc66"
  },
  {
   "metadata": {},
   "cell_type": "markdown",
   "source": "### Пункт 1.1",
   "id": "aea5db924f14ce6c"
  },
  {
   "metadata": {},
   "cell_type": "code",
   "source": [
    "file_pubg = pd.read_csv(\"CSV Tables/Pubg_Stats.csv\")\n",
    "plt.figure(figsize=(10,6))\n",
    "sb.histplot(file_pubg['Kills'], bins=30, kde=False)\n",
    "plt.show()"
   ],
   "id": "fb100aaf0fa313ae",
   "outputs": [],
   "execution_count": null
  },
  {
   "metadata": {},
   "cell_type": "markdown",
   "source": "#### Показывает, сколько в целом киллов у игроков",
   "id": "ec280ce8f7ef1395"
  },
  {
   "metadata": {},
   "cell_type": "markdown",
   "source": "#### Вывод: среднее количество убийств у игроков варьируется от 500 до 700",
   "id": "c3b5400a013593a2"
  },
  {
   "metadata": {},
   "cell_type": "markdown",
   "source": "### Пункт 1.2",
   "id": "aee666a6924e71db"
  },
  {
   "metadata": {},
   "cell_type": "code",
   "source": [
    "plt.figure(figsize=(10,6))\n",
    "sb.scatterplot(data=file_pubg, x='Kills', y='Time_Survived')\n",
    "plt.show()"
   ],
   "id": "85e2fa00f0c65d26",
   "outputs": [],
   "execution_count": null
  },
  {
   "metadata": {},
   "cell_type": "markdown",
   "source": "#### Показывает, сколько киллов у людей в соотношении их игровых минут",
   "id": "b5d485b4dd86aaa0"
  },
  {
   "metadata": {},
   "cell_type": "markdown",
   "source": "#### Вывод: Чем больше игровое время, тем больше киллов",
   "id": "683ee97e2dc058b6"
  },
  {
   "metadata": {},
   "cell_type": "markdown",
   "source": "### Пункт 1.3",
   "id": "cd45236622746fed"
  },
  {
   "metadata": {},
   "cell_type": "code",
   "source": [
    "plt.figure(figsize=(10,6))\n",
    "sb.countplot(x='Rank', data=file_pubg)\n",
    "plt.show()"
   ],
   "id": "356a7fb3f177778a",
   "outputs": [],
   "execution_count": null
  },
  {
   "metadata": {},
   "cell_type": "markdown",
   "source": "#### Показывает общее разделение рангов у игроков",
   "id": "4344cfa4e21d3809"
  },
  {
   "metadata": {},
   "cell_type": "markdown",
   "source": "#### Вывод: наибольшее количество людей сидит в платиновых рангах, когда как наименьшее - в сильверах",
   "id": "843f2f1ab2ebad24"
  },
  {
   "metadata": {},
   "cell_type": "markdown",
   "source": "### Пункт 1.4",
   "id": "1350ab02cc5fd885"
  },
  {
   "metadata": {},
   "cell_type": "code",
   "source": [
    "plt.figure(figsize=(10,6))\n",
    "sb.histplot(data=file_pubg, x='Rank', y='Damage_Dealt')\n",
    "plt.show()"
   ],
   "id": "5def294a9ca9b49a",
   "outputs": [],
   "execution_count": null
  },
  {
   "metadata": {},
   "cell_type": "markdown",
   "source": "#### Показывает распределение урона для каждого ранга",
   "id": "1bcce9ad785a8fb5"
  },
  {
   "metadata": {},
   "cell_type": "markdown",
   "source": [
    "#### Вывод: можно предположить иерархию рангов по количеству урона: \n",
    "#### Silver, Gold, Platinum, Diamond\n",
    "##### А также можно сделать вывод, что один из сильверов - либо ботяра, который не умеет играть, а только наносит урон, либо читераст"
   ],
   "id": "79613ef39a35c66"
  }
 ],
 "metadata": {
  "kernelspec": {
   "display_name": "Python 3 (ipykernel)",
   "language": "python",
   "name": "python3"
  },
  "language_info": {
   "codemirror_mode": {
    "name": "ipython",
    "version": 3
   },
   "file_extension": ".py",
   "mimetype": "text/x-python",
   "name": "python",
   "nbconvert_exporter": "python",
   "pygments_lexer": "ipython3",
   "version": "3.12.4"
  }
 },
 "nbformat": 4,
 "nbformat_minor": 5
}
